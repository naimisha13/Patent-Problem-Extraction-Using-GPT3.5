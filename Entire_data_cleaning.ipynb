{
 "cells": [
  {
   "cell_type": "code",
   "execution_count": 1,
   "id": "ce78a95b",
   "metadata": {},
   "outputs": [],
   "source": [
    "import re\n",
    "import pandas as pd"
   ]
  },
  {
   "cell_type": "code",
   "execution_count": 2,
   "id": "344ea685",
   "metadata": {},
   "outputs": [],
   "source": [
    "re_tags = re.compile('<.*?>') # re to remove all the tags\n",
    "re_patent_number = re.compile('file=\"([^-]*)-') # re to extract patent number\n",
    "\n",
    "re_paranthesis = re.compile('\\(.*?\\)') # removing stuff in paranthesis"
   ]
  },
  {
   "cell_type": "code",
   "execution_count": 3,
   "id": "3173a38c",
   "metadata": {},
   "outputs": [],
   "source": [
    "number_of_patents = 0\n",
    "number_of_design_patents = 0\n",
    "patent_data = {\"Patent_Number\":[], \"Description\":[]};\n",
    "description_flag = 0\n",
    "description_string = 'x'\n",
    "with open('ipg230207.xml', 'r') as f:\n",
    "    for line in f:\n",
    "        \n",
    "#         if number_of_patents <= 1:\n",
    "            #checking the number of patents\n",
    "        if line == '<?xml version=\"1.0\" encoding=\"UTF-8\"?>\\n':\n",
    "            number_of_patents += 1\n",
    "\n",
    "        #extract patent number\n",
    "        if '<us-patent-grant lang=\"EN\"' in line:\n",
    "            patent_num = re_patent_number.findall(line)\n",
    "            if 'USD0' in patent_num[0]:\n",
    "                number_of_design_patents += 1\n",
    "\n",
    "            patent_data[\"Patent_Number\"].append(patent_num[0])\n",
    "\n",
    "        if '<description id=\"description\">' in line:\n",
    "            description_string = ''\n",
    "            description_flag = 1\n",
    "\n",
    "        if line == '</description>\\n':\n",
    "            description_flag = 0\n",
    "            patent_data[\"Description\"].append(description_string)\n",
    "\n",
    "        else:\n",
    "            if description_flag == 1:\n",
    "                line = re.sub(re_tags, '', line)\n",
    "                description_string += line\n",
    "#             elif description_string == '' or description_string == 'x':\n",
    "#                 patent_data[\"Description\"].append('')\n",
    "                \n",
    "                "
   ]
  },
  {
   "cell_type": "code",
   "execution_count": 4,
   "id": "6daf0a1e",
   "metadata": {},
   "outputs": [
    {
     "name": "stdout",
     "output_type": "stream",
     "text": [
      "6007\n"
     ]
    }
   ],
   "source": [
    "print(number_of_patents)"
   ]
  },
  {
   "cell_type": "code",
   "execution_count": 47,
   "id": "240a4948",
   "metadata": {},
   "outputs": [
    {
     "name": "stdout",
     "output_type": "stream",
     "text": [
      "560\n"
     ]
    }
   ],
   "source": [
    "print(number_of_design_patents)"
   ]
  },
  {
   "cell_type": "code",
   "execution_count": 5,
   "id": "201df6aa",
   "metadata": {},
   "outputs": [
    {
     "data": {
      "text/plain": [
       "5882"
      ]
     },
     "execution_count": 5,
     "metadata": {},
     "output_type": "execute_result"
    }
   ],
   "source": [
    "len(patent_data[\"Description\"])"
   ]
  },
  {
   "cell_type": "code",
   "execution_count": 4,
   "id": "b0cdda7c",
   "metadata": {},
   "outputs": [],
   "source": [
    "# patent_data_og = patent_data\n",
    "patent_data = patent_data_og"
   ]
  },
  {
   "cell_type": "code",
   "execution_count": 6,
   "id": "4a418974",
   "metadata": {},
   "outputs": [],
   "source": [
    "for idx, descr in enumerate(patent_data[\"Description\"]):\n",
    "#     if 'USD0' in patent_data[\"Patent_Number\"][idx]:\n",
    "#         patent_data[\"Description\"][idx] = None\n",
    "#     else:\n",
    "    new_descr = ''\n",
    "    new_descr_however = ''\n",
    "    if 'however' in descr or 'However' in descr:\n",
    "        flag_however = 0\n",
    "        for line in descr.split('\\n'):\n",
    "            if len(line) > 20 and 'FIG' not in line and '&#x' not in line and 'THE' not in line and 'SUMMARY' in line:\n",
    "                \n",
    "                if ('however' in line or 'However' in line) and flag_however == 0:\n",
    "                    flag_however = 1\n",
    "                    new_descr = line\n",
    "                    continue\n",
    "                if flag_however < 3:\n",
    "                    new_descr += ' ' + line\n",
    "                    flag_however += 1\n",
    "                if flag_however == 3:\n",
    "                    flag_however = 0\n",
    "    else:\n",
    "        for line in descr.split('\\n'):\n",
    "            if len(line) > 20 and 'FIG' not in line and '&#x' not in line and 'THE' not in line and 'SUMMARY' in line:\n",
    "                new_descr += ' ' + line\n",
    "\n",
    "    if new_descr == '' or 'USD0' in patent_data[\"Patent_Number\"][idx] or 'USPP0'in patent_data[\"Patent_Number\"][idx]:\n",
    "        patent_data[\"Description\"][idx] = None\n",
    "    else:\n",
    "        new_descr = str(new_descr).strip()\n",
    "        new_descr = re.sub(re_paranthesis, '', new_descr)\n",
    "        patent_data[\"Description\"][idx] = new_descr\n",
    "#     print('lalala')\n",
    "\n",
    "\n",
    "# skip USD - design patents - done\n",
    "# evaluation of how well it describes - this week\n",
    "# however, 3 paragraphs - \n",
    "# use examples while prompting - example - next week\n",
    "# get 100 patents summrized - this week\n",
    "# human problem - connection with the summary - last week?\n",
    "# "
   ]
  },
  {
   "cell_type": "code",
   "execution_count": 7,
   "id": "3bfd62ae",
   "metadata": {},
   "outputs": [],
   "source": [
    "patent_data_df = pd.DataFrame.from_dict(patent_data)"
   ]
  },
  {
   "cell_type": "code",
   "execution_count": 73,
   "id": "69ba6c73",
   "metadata": {},
   "outputs": [
    {
     "data": {
      "text/html": [
       "<div>\n",
       "<style scoped>\n",
       "    .dataframe tbody tr th:only-of-type {\n",
       "        vertical-align: middle;\n",
       "    }\n",
       "\n",
       "    .dataframe tbody tr th {\n",
       "        vertical-align: top;\n",
       "    }\n",
       "\n",
       "    .dataframe thead th {\n",
       "        text-align: right;\n",
       "    }\n",
       "</style>\n",
       "<table border=\"1\" class=\"dataframe\">\n",
       "  <thead>\n",
       "    <tr style=\"text-align: right;\">\n",
       "      <th></th>\n",
       "      <th>Patent_Number</th>\n",
       "      <th>Description</th>\n",
       "    </tr>\n",
       "  </thead>\n",
       "  <tbody>\n",
       "    <tr>\n",
       "      <th>0</th>\n",
       "      <td>USD0977218</td>\n",
       "      <td>None</td>\n",
       "    </tr>\n",
       "    <tr>\n",
       "      <th>1</th>\n",
       "      <td>USD0977219</td>\n",
       "      <td>None</td>\n",
       "    </tr>\n",
       "    <tr>\n",
       "      <th>2</th>\n",
       "      <td>USD0977220</td>\n",
       "      <td>None</td>\n",
       "    </tr>\n",
       "    <tr>\n",
       "      <th>3</th>\n",
       "      <td>USD0977221</td>\n",
       "      <td>None</td>\n",
       "    </tr>\n",
       "    <tr>\n",
       "      <th>4</th>\n",
       "      <td>USD0977222</td>\n",
       "      <td>None</td>\n",
       "    </tr>\n",
       "  </tbody>\n",
       "</table>\n",
       "</div>"
      ],
      "text/plain": [
       "  Patent_Number Description\n",
       "0    USD0977218        None\n",
       "1    USD0977219        None\n",
       "2    USD0977220        None\n",
       "3    USD0977221        None\n",
       "4    USD0977222        None"
      ]
     },
     "execution_count": 73,
     "metadata": {},
     "output_type": "execute_result"
    }
   ],
   "source": [
    "patent_data_df.head()"
   ]
  },
  {
   "cell_type": "code",
   "execution_count": 49,
   "id": "1e457086",
   "metadata": {},
   "outputs": [],
   "source": [
    "patent_data_df_og = patent_data_df"
   ]
  },
  {
   "cell_type": "code",
   "execution_count": 58,
   "id": "812d47a7",
   "metadata": {},
   "outputs": [
    {
     "data": {
      "text/html": [
       "<div>\n",
       "<style scoped>\n",
       "    .dataframe tbody tr th:only-of-type {\n",
       "        vertical-align: middle;\n",
       "    }\n",
       "\n",
       "    .dataframe tbody tr th {\n",
       "        vertical-align: top;\n",
       "    }\n",
       "\n",
       "    .dataframe thead th {\n",
       "        text-align: right;\n",
       "    }\n",
       "</style>\n",
       "<table border=\"1\" class=\"dataframe\">\n",
       "  <thead>\n",
       "    <tr style=\"text-align: right;\">\n",
       "      <th></th>\n",
       "      <th>Patent_Number</th>\n",
       "      <th>Description</th>\n",
       "    </tr>\n",
       "  </thead>\n",
       "  <tbody>\n",
       "    <tr>\n",
       "      <th>0</th>\n",
       "      <td>USD0977218</td>\n",
       "      <td>None</td>\n",
       "    </tr>\n",
       "    <tr>\n",
       "      <th>1</th>\n",
       "      <td>USD0977219</td>\n",
       "      <td>None</td>\n",
       "    </tr>\n",
       "    <tr>\n",
       "      <th>2</th>\n",
       "      <td>USD0977220</td>\n",
       "      <td>None</td>\n",
       "    </tr>\n",
       "    <tr>\n",
       "      <th>3</th>\n",
       "      <td>USD0977221</td>\n",
       "      <td>None</td>\n",
       "    </tr>\n",
       "    <tr>\n",
       "      <th>4</th>\n",
       "      <td>USD0977222</td>\n",
       "      <td>None</td>\n",
       "    </tr>\n",
       "  </tbody>\n",
       "</table>\n",
       "</div>"
      ],
      "text/plain": [
       "  Patent_Number Description\n",
       "0    USD0977218        None\n",
       "1    USD0977219        None\n",
       "2    USD0977220        None\n",
       "3    USD0977221        None\n",
       "4    USD0977222        None"
      ]
     },
     "execution_count": 58,
     "metadata": {},
     "output_type": "execute_result"
    }
   ],
   "source": [
    "patent_data_df_og.head()"
   ]
  },
  {
   "cell_type": "code",
   "execution_count": 77,
   "id": "41271ae7",
   "metadata": {},
   "outputs": [],
   "source": [
    "import time\n",
    "ts = str(time.time())\n",
    "patent_data_df.to_csv(\"clean_data/patents_description_wahwah_\"+ ts +\".csv\")"
   ]
  },
  {
   "cell_type": "markdown",
   "id": "9c617a2b",
   "metadata": {},
   "source": [
    "prompt: 'From the given description of a patent, can you tell what problem the patent is claiming to solve along with a 10 dimentional vector representation of your answer?' - or I can get embeddings from some other model as well and compare both?"
   ]
  },
  {
   "cell_type": "code",
   "execution_count": 50,
   "id": "59fcdc23",
   "metadata": {},
   "outputs": [
    {
     "data": {
      "text/plain": [
       "570"
      ]
     },
     "execution_count": 50,
     "metadata": {},
     "output_type": "execute_result"
    }
   ],
   "source": [
    "patent_data_df['Description'].isna().sum()"
   ]
  },
  {
   "cell_type": "code",
   "execution_count": 12,
   "id": "d1d4e080",
   "metadata": {},
   "outputs": [],
   "source": [
    "# df = df[df['EPS'].notna()]"
   ]
  },
  {
   "cell_type": "code",
   "execution_count": 14,
   "id": "55fa3d9f",
   "metadata": {},
   "outputs": [
    {
     "name": "stdout",
     "output_type": "stream",
     "text": [
      "the count is of patent descriptions with less than 20 words = 0\n",
      "the count is of patent descriptions with more than 1500 words = 4196\n",
      "total count of tokens from usable patents = 868463\n",
      "1116\n"
     ]
    }
   ],
   "source": [
    "count_20 = 0\n",
    "count_1500 = 0\n",
    "patent_no_high_words = []\n",
    "patent_no_list = []\n",
    "num_of_words = 0\n",
    "patent_data['length'] = []\n",
    "for idx, line in enumerate(patent_data['Description']):\n",
    "    if line:\n",
    "        words = line.split(' ')\n",
    "        patent_data['length'].append(len(words)) \n",
    "        if len(words) < 20:\n",
    "#             print(len(words))\n",
    "#             print(patent_data['Patent_Number'][idx])\n",
    "            count_20 += 1\n",
    "        elif len(words) > 1500:\n",
    "            count_1500 += 1\n",
    "            patent_no_high_words.append(patent_data['Patent_Number'][idx])\n",
    "        else:\n",
    "            num_of_words += len(words)\n",
    "            patent_no_list.append(patent_data['Patent_Number'][idx])\n",
    "        \n",
    "print('the count is of patent descriptions with less than 20 words = '+ str(count_20))\n",
    "print('the count is of patent descriptions with more than 1500 words = '+ str(count_1500))\n",
    "print('total count of tokens from usable patents = '+ str(num_of_words))\n",
    "print('num of patents that can be used now'len(patent_no_list))"
   ]
  },
  {
   "cell_type": "code",
   "execution_count": null,
   "id": "3545dc2b",
   "metadata": {},
   "outputs": [],
   "source": []
  },
  {
   "cell_type": "code",
   "execution_count": 75,
   "id": "e9b79afd",
   "metadata": {},
   "outputs": [
    {
     "data": {
      "text/html": [
       "<div>\n",
       "<style scoped>\n",
       "    .dataframe tbody tr th:only-of-type {\n",
       "        vertical-align: middle;\n",
       "    }\n",
       "\n",
       "    .dataframe tbody tr th {\n",
       "        vertical-align: top;\n",
       "    }\n",
       "\n",
       "    .dataframe thead th {\n",
       "        text-align: right;\n",
       "    }\n",
       "</style>\n",
       "<table border=\"1\" class=\"dataframe\">\n",
       "  <thead>\n",
       "    <tr style=\"text-align: right;\">\n",
       "      <th></th>\n",
       "      <th>Patent_Number</th>\n",
       "      <th>Description</th>\n",
       "    </tr>\n",
       "  </thead>\n",
       "  <tbody>\n",
       "    <tr>\n",
       "      <th>count</th>\n",
       "      <td>5882</td>\n",
       "      <td>5312</td>\n",
       "    </tr>\n",
       "    <tr>\n",
       "      <th>unique</th>\n",
       "      <td>5882</td>\n",
       "      <td>5230</td>\n",
       "    </tr>\n",
       "    <tr>\n",
       "      <th>top</th>\n",
       "      <td>USD0977218</td>\n",
       "      <td>The description set forth herein, in connectio...</td>\n",
       "    </tr>\n",
       "    <tr>\n",
       "      <th>freq</th>\n",
       "      <td>1</td>\n",
       "      <td>6</td>\n",
       "    </tr>\n",
       "  </tbody>\n",
       "</table>\n",
       "</div>"
      ],
      "text/plain": [
       "       Patent_Number                                        Description\n",
       "count           5882                                               5312\n",
       "unique          5882                                               5230\n",
       "top       USD0977218  The description set forth herein, in connectio...\n",
       "freq               1                                                  6"
      ]
     },
     "execution_count": 75,
     "metadata": {},
     "output_type": "execute_result"
    }
   ],
   "source": [
    "patent_data_df_og.describe()"
   ]
  },
  {
   "cell_type": "code",
   "execution_count": 8,
   "id": "5bbb1ef9",
   "metadata": {},
   "outputs": [
    {
     "data": {
      "text/html": [
       "<div>\n",
       "<style scoped>\n",
       "    .dataframe tbody tr th:only-of-type {\n",
       "        vertical-align: middle;\n",
       "    }\n",
       "\n",
       "    .dataframe tbody tr th {\n",
       "        vertical-align: top;\n",
       "    }\n",
       "\n",
       "    .dataframe thead th {\n",
       "        text-align: right;\n",
       "    }\n",
       "</style>\n",
       "<table border=\"1\" class=\"dataframe\">\n",
       "  <thead>\n",
       "    <tr style=\"text-align: right;\">\n",
       "      <th></th>\n",
       "      <th>Patent_Number</th>\n",
       "      <th>Description</th>\n",
       "    </tr>\n",
       "  </thead>\n",
       "  <tbody>\n",
       "    <tr>\n",
       "      <th>count</th>\n",
       "      <td>5312</td>\n",
       "      <td>5312</td>\n",
       "    </tr>\n",
       "    <tr>\n",
       "      <th>unique</th>\n",
       "      <td>5312</td>\n",
       "      <td>5297</td>\n",
       "    </tr>\n",
       "    <tr>\n",
       "      <th>top</th>\n",
       "      <td>USRE049409</td>\n",
       "      <td>CROSS-REFERENCE TO RELATED APPLICATIONS/INCORP...</td>\n",
       "    </tr>\n",
       "    <tr>\n",
       "      <th>freq</th>\n",
       "      <td>1</td>\n",
       "      <td>3</td>\n",
       "    </tr>\n",
       "  </tbody>\n",
       "</table>\n",
       "</div>"
      ],
      "text/plain": [
       "       Patent_Number                                        Description\n",
       "count           5312                                               5312\n",
       "unique          5312                                               5297\n",
       "top       USRE049409  CROSS-REFERENCE TO RELATED APPLICATIONS/INCORP...\n",
       "freq               1                                                  3"
      ]
     },
     "execution_count": 8,
     "metadata": {},
     "output_type": "execute_result"
    }
   ],
   "source": [
    "patent_data_df = patent_data_df.dropna()\n",
    "patent_data_df.describe()"
   ]
  },
  {
   "cell_type": "code",
   "execution_count": 13,
   "id": "95be30c0",
   "metadata": {},
   "outputs": [
    {
     "data": {
      "text/html": [
       "<div>\n",
       "<style scoped>\n",
       "    .dataframe tbody tr th:only-of-type {\n",
       "        vertical-align: middle;\n",
       "    }\n",
       "\n",
       "    .dataframe tbody tr th {\n",
       "        vertical-align: top;\n",
       "    }\n",
       "\n",
       "    .dataframe thead th {\n",
       "        text-align: right;\n",
       "    }\n",
       "</style>\n",
       "<table border=\"1\" class=\"dataframe\">\n",
       "  <thead>\n",
       "    <tr style=\"text-align: right;\">\n",
       "      <th></th>\n",
       "      <th>Patent_Number</th>\n",
       "      <th>Description</th>\n",
       "    </tr>\n",
       "  </thead>\n",
       "  <tbody>\n",
       "    <tr>\n",
       "      <th>570</th>\n",
       "      <td>USRE049409</td>\n",
       "      <td>In the present embodiment, the display unit 40...</td>\n",
       "    </tr>\n",
       "    <tr>\n",
       "      <th>571</th>\n",
       "      <td>USRE049410</td>\n",
       "      <td>CROSS-REFERENCE TO RELATED APPLICATIONS NOTICE...</td>\n",
       "    </tr>\n",
       "    <tr>\n",
       "      <th>572</th>\n",
       "      <td>USRE049411</td>\n",
       "      <td>The locking catch 12 may be rectangular in sha...</td>\n",
       "    </tr>\n",
       "    <tr>\n",
       "      <th>573</th>\n",
       "      <td>USRE049412</td>\n",
       "      <td>BACKGROUND OF THE INVENTION 1. Field of the In...</td>\n",
       "    </tr>\n",
       "    <tr>\n",
       "      <th>574</th>\n",
       "      <td>USRE049413</td>\n",
       "      <td>Notice: More than one reissue application has ...</td>\n",
       "    </tr>\n",
       "  </tbody>\n",
       "</table>\n",
       "</div>"
      ],
      "text/plain": [
       "    Patent_Number                                        Description\n",
       "570    USRE049409  In the present embodiment, the display unit 40...\n",
       "571    USRE049410  CROSS-REFERENCE TO RELATED APPLICATIONS NOTICE...\n",
       "572    USRE049411  The locking catch 12 may be rectangular in sha...\n",
       "573    USRE049412  BACKGROUND OF THE INVENTION 1. Field of the In...\n",
       "574    USRE049413  Notice: More than one reissue application has ..."
      ]
     },
     "execution_count": 13,
     "metadata": {},
     "output_type": "execute_result"
    }
   ],
   "source": [
    "patent_data_df.head()"
   ]
  },
  {
   "cell_type": "code",
   "execution_count": 38,
   "id": "c64c02dc",
   "metadata": {},
   "outputs": [],
   "source": [
    "ts = str(time.time())\n",
    "patent_data_df.to_csv(\"patents_description_filtered_\"+ ts +\".csv\")"
   ]
  },
  {
   "cell_type": "code",
   "execution_count": 56,
   "id": "e36cc56e",
   "metadata": {},
   "outputs": [
    {
     "data": {
      "text/plain": [
       "1931"
      ]
     },
     "execution_count": 56,
     "metadata": {},
     "output_type": "execute_result"
    }
   ],
   "source": [
    "len(patent_no_list)"
   ]
  },
  {
   "cell_type": "code",
   "execution_count": 15,
   "id": "1a6957be",
   "metadata": {},
   "outputs": [
    {
     "data": {
      "text/plain": [
       "'BACKGROUND OF THE INVENTION 1. Field of the Invention The present invention relates to method and apparatus for preparing and dispensing beverages from a pitcher and, more particularly, a pitcher for receiving the ingredients for mixing both alcoholic and non-alcoholic beverages where the ingredients for the beverage to be mixed and the amount of each ingredient are identified by a measuring ruler releasably attached to the pitcher where a plurality of measuring rulers are provided for mixing the ingredients of any number of beverages. 2. Description of the Prior Art It is a well known practice in the use of a mixing cup for cooking to identify on the cup the levels at which ingredients are added to the cup. For example, the exterior of a mixing cup is marked to identify the levels for filling ingredients from one-fourth cup to a full cup. Measure lines extend from the bottom of the cup to the open upper end of the cup. A one-half cup of sugar is measured by adding sugar to the cup to the measuring line that is identified as one-half cup. On another portion of the circumference of the measuring cup, measuring lines identify increments in ounces from the bottom level of the cup at two ounces to the top level at eight ounces. The measuring marks are imprinted on the surface of the cup and are visible from the outside of the cup. The information that can be printed on the cup is limited by the circumferential surface area of the cup. In the mixing of beverages that include a number of different ingredients, such as an alcoholic beverage, it is well known to use cocktail shakers for mixing ingredients in the required amounts. In one embodiment the circumference of the cocktail shaker is marked with the names of a number of cocktails to be mixed followed by a list of the ingredients. For example, the cocktail shaker identifies the ingredients of a margarita to include 4 oz. of tequila, 2 oz. of Cointreau and 1 oz. of lemon juice. The same approach is used to identify other cocktails, such as a Manhattan, daiquiri, martini, bloody Mary, and the like. The ingredients by volume of each cocktail appears on one portion of the circumferential surface of the cocktail shaker. Another portion of the circumference of the cocktail shaker is imprinted with measure lines for identifying volume in ounces beginning at the bottom with one ounce and progressing vertically to the top of the cocktail shaker to, for example, 15 oz. A measure line is provided for each ounce from one to fifteen ounces. Using the shaker to mix a margarita, you would add tequila in the amount of 4 oz. to a level opposite the 4 oz. mark. From the 4 oz. mark, 2 oz. of Cointreau would be added to the 6 oz. mark and then 1 oz. of lemon juice would be added to the 7 oz. mark for a margarita containing 7 oz. of ingredients. There are a number of disadvantages with the above-described cocktail shaker. Principally, the number of different beverages identified on the shaker for mixing is limited by the circumferential surface area available for identifying the ingredients for each cocktail. Typically, the ingredients for no more than six different beverage would be listed around the circumference of the shaker, leaving room to print the measuring scale. With this arrangement one scale in ounces is provided on the cocktail shaker for mixing the ingredients of each beverage. Each cocktail has different ingredients added at different volumes to the shaker. Therefore, a single scale must be provided identifying increments of ounces from one ounce to an upper limit, for example eight or ten ounces. Furthermore, each ingredient is added one by one to the shaker by an ounce container  by the volume required for the cocktail. For example, after 4 oz. of tequila are added to the shaker, 2 oz. of Cointreau are added to the measuring line identifying 6 oz. Again, this requires adding the required volume beginning with the volume of the last ingredient added to the vessel. This makes it difficult to precisely measure the ingredients that are to be mixed together. There is need for a beverage mixing device that can be used to identify the ingredients of any number of beverages where the user knows exactly to what level in the mixing device the selected ingredients are added. SUMMARY OF THE INVENTION In accordance with the present invention there is provided apparatus for mixing and preparing beverages that includes a handheld vessel having a closed lower end portion and an open upper end portion for receiving liquid ingredients. The vessel has an outer surface and an inner surface defined by a wall of the vessel. The wall extends between the lower end portion and the upper end portion of the vessel. An ingredient mixing guide is detachably mounted on the vessel. The mixing guide identifies the ingredients of a selected beverage for mixing in the vessel. The mixing guide is mounted on the vessel to extend between the lower end portion and the upper end portion. A plurality of measure lines are displayed on the mixing guide in spaced parallel relation along the length of the guide between the lower end portion and the upper end portion of the vessel. The measure lines each identify a selected ingredient for sequentially adding to the vessel in an amount that fills the vessel to the measure line identifying the ingredient. The mixing guide is detached from the vessel after all the ingredients identified on the mixing guide have been added to the vessel. Further in accordance with the present invention there is provided a method for mixing beverages in a vessel that includes the steps of identifying on a measuring guide the ingredients of a selected beverage for mixing in an open-ended vessel. Spaced apart marks are positioned the length of the stirring device corresponding to the beverage ingredients. The stirring device is releasably attached to extend upright on the vessel. The vessel is filled with one ingredient after another beginning with the first ingredient added to the bottom of the vessel up to the mark identifying the first ingredient. Thereafter, the remaining ingredients are added one after another to a level in the vessel opposite the respective identifying mark for the ingredient until all of the ingredients are added to the vessel. Further the present invention is directed to a kit for mixing ingredients of a selected beverage in a vessel that includes a closed lower end and an open upper end for containing a liquid beverage. A measuring ruler has a length extending between the closed lower end and the open upper end of the vessel. The measuring ruler identifies the ingredients of a selected beverage for mixing in the vessel. The measuring ruler has spaced apart measuring lines identifying the ingredients for the beverage. The ruler is releasably attached to the vessel to display the ingredients identified on the measuring ruler to permit the ingredients to be added one after another to the vessel to a level opposite the measuring line for each ingredient. Further in accordance with the present invention there is provided a tool for mixing ingredients of a beverage that includes an elongated member for stirring liquid contents added to a container for mixing a selected beverage. The elongated member has a length substantially greater than the width thereof. A plurality of measure lines are positioned on the elongated member in spaced relationship the length of said elongated member. The measure lines each identify a selected ingredient for adding sequentially to the container. The measure lines are spaced a distance apart in proportion to the volume of each ingredient added to the container for mixing. A principal object of the present invention is to provide an apparatus for mixing a selected one of a number of beverages by easily identifying to the user the amount of each ingredient to be mixed for the selected beverage on the apparatus. Another object of the present invention is to provide a container for mixing the ingredients of a wide variety of beverages by identifying on the surface of the container the ingredients that are added to the container for mixing a selected beverage. Another object of the present invention is to provide a collection of measuring devices each identifying the ingredients of a selected beverage to be mixed in a pitcher where each measuring device is detachably mounted on the vessel to identify the level to which each ingredient is added to the pitcher for precisely mixing the ingredients. These and other objects of the present invention will be more completely disclosed and described in the following specification, the accompanying drawings, and the appended claims. BRIEF DESCRIPTION OF THE DRAWINGS DESCRIPTION OF THE PREFERRED EMBODIMENTS Preferably, the vessel 14 is in the shape of a conventional pitcher having a preselected length and volume to efficiently receive the ingredients for mixing in the vessel 14. It should be understood that the vessel 14 is not confined to the configuration of a conventional pitcher. It may take any preselected configuration dictated by its use either for individual use or commercial use in preparing mixed beverages. One example configuration is a cocktail shaker having no handle. The mixing ruler 16 is detachably mounted on the pitcher 14 to fix the position of the mixing ruler 16 on the pitcher 14 when in use and to remove the mixing ruler 16 from attachment to the pitcher 14. The identifying ingredients appearing on all of the mixing rulers used with the present invention correspond to the recipe that is known for mixing the selected beverage. Any manner of imprinting or impressing the wording on the ruler so that it becomes a permanent part of the ruler is used. In one embodiment the printed information is in the form of a die cut strip adhesively attached to the surfaces 42 and 44 of the ruler. The strip identifies each ingredient and the volume by a measuring line 51 to which the ingredient is added to the pitcher. The measuring lines 51 provide the instructions for mixing the selected beverage. Once the mixing ruler is inserted in the slot 46 within the pitcher 14 where the desired beverage to be mixed is visible from outside the pitcher, then the ingredients are sequentially added to the measuring line 51 of each ingredient. For accurate mixing of the ingredients, the mixing ruler has a length that extends from abutting position of the lower end 38 with the closed end portion 20 of the pitcher 14. Most preferably, the mixing ruler 16 extends in length where the enlarged end 40 of the mixing ruler appears above the pitcher rim 28. In accordance with the present invention, each of the ingredients for forming the beverage is identified on the mixing ruler 16, as well as the volume of the ingredient to be added without having to measure the ingredient. Thus, the mixing ruler functions as a guide for mixing the specific beverage. The demarcations or lines 51 on the ruler are spaced apart the required distance for adding the required amount of each ingredient of the selected beverage. All that is required is to sequentially add the ingredients to the pitcher from the lower end 38 of the mixing ruler 16 to the last ingredient listed at the top of the mixing ruler. This provides a fool proof method for mixing the ingredients of a cocktail without having to measure the volume of each ingredient using a measuring device, such as a shot glass, separately from the pitcher. The volume to be added for each ingredient is predetermined by the relative positioning of the measuring lines 51 inscribed on the mixing ruler 16. Once all the ingredients have been added to the pitcher to the levels required, the mixing ruler 16 is removed from the slot 46 and then used to stir the ingredients. After the ingredients are adequately mixed, the ruler is removed from the pitcher. The mixed contents are then poured from the pour spout 26. The length of the mixing ruler 16 and the spacing between the measuring lines 51 identifying the ingredients on the ruler for mixing the desired beverage is determined by the size of the pitcher so that at least all of the desired contents can be added to the pitcher in the correct proportion. The correct proportion according to the accepted recipe for mixing the beverage is predetermined by the length of the mixing ruler and the size of the pitcher. The spacing of the measuring lines for adding each ingredient is determined by the recipe for the beverage. For a DAIQUIRI to be mixed in the pitcher 14, the first ingredient that is added to the pitcher is simple syrup, followed by lime juice, followed by white rum. Each ingredient is added sequentially one after the other. There is no guess work as to the volume of each ingredient that is added to the pitcher by virtue of simply adding the ingredient to a level in the pitcher 14 positioned opposite the measuring line 51 on the mixing ruler 56, as seen through the wall of the pitcher. To prepare a SUMMER SPRITZ, the first ingredient added to the pitcher is Aperol, followed by lemon juice, followed by elderflower liqueur, vodka, and finally club soda to the measuring line therefor. As with the prior methods of mixing, each ingredient is added one after the other up to the level of the mixing line 51 that identifies the ingredient visible through the wall of the pitcher. The SUMMER PEACH vodka based cocktail includes the ingredients of sweet tea, lemon juice, and peach vodka, each added sequentially, one after the other. According to the provisions of the patent statutes, I have explained the principle, preferred construction and mode of operation of my invention and have illustrated and described what I now consider to represent its best embodiments. However, it should be understood that, within the scope of the appended claims, the invention may be practiced otherwise than as specifically illustrated and described.'"
      ]
     },
     "execution_count": 15,
     "metadata": {},
     "output_type": "execute_result"
    }
   ],
   "source": [
    "#US11570970 - 572\n",
    "patent_data_og['Description'][573]"
   ]
  },
  {
   "cell_type": "code",
   "execution_count": 18,
   "id": "76677435",
   "metadata": {},
   "outputs": [
    {
     "name": "stdout",
     "output_type": "stream",
     "text": [
      "The locking catch 12 may be rectangular in shape, however it may also be an oblique surface as shown that slopes relative to the transverse direction in which the connection element 10 is inserted and that acts as a ramp for the sliding of the connection element 10.\n",
      " On its outer circumference, the body 3 of the female connector 2 has a shoulder 112 adjacent to each catch 12 and forming a stop for the connection element 10. In this example, the connection element 10 is in the form of two forks, a first fork of upside-down U-shape forming a lock 30, and a second fork of upside-down U-shape forming a yoke 14. The two forks are connected together via the bases of the U-shape.\n",
      " The first fork forming the lock 30 is designed to be placed behind the collar 7 of the male connector 6 so as to hold it and block it in the axial direction when the male connector 6 is fully pushed into the inside of the female connector 2. The lock 30 has two branches spaced apart from each other and extending in the transverse insertion direction. The branches of the lock 30 are shaped so as to present a radius of curvature corresponding to the diameter of the cylindrical tube of the male connector 6. Each of the ends of the branches of the lock 30 presents a chamfer 31 extending axially and sloping towards the outside of the lock 30. The end of each branch of the lock 30 in the vicinity of the chamfer 31 does not go beyond the middle of the axial opening 4 in the female connector 2.\n",
      " The second fork presents two flexible branches 15 that are spaced apart from each other and that extend in the transverse insertion direction. The two branches 15 are shaped to form kinds of beams that slide in the slots of the slideway defined by the radial recess 8. Each flexible branch 15 presents a C-shaped locking hook 16 at its free end, with the open side of the C-shape facing radially towards the inside of the orifice in the body 3 of the female connector 2. These two C-shapes face each other. More particularly, the end of each branch 15 is constituted by the base of the C-shape of the hook 16.\n",
      " Each flexible branch 15 of the connection element 10 presents a front face that faces the collar 7 of the male connector 6 when it is engaged in the female connector 2, and referred to as the front face for interference with the collar 7.\n",
      " In its portion situated beneath the middle of the axial opening 4 in the female connector 2, the front face of each branch 15 includes an oblique surface or feeler 17 that slopes relative to the axial insertion direction of the male connector 6, that faces towards the inside of the orifice 4 of the female connector 2, and that when the connection element 10 is in a high, pre-assembly position inside the female connector 2 serves to interfere with the front face of the collar 7 of the male connector 6 when it is pushed into the female connector 2.\n",
      " Beside its front face, each of the hooks presents a retaining finger 18 or lug on the base of its C-shape that projects axially from the front face for a function that is explained below. The total thickness of the hook 16 and of the retaining finger 18 in the axial direction A is greater than the empty space 13 adjacent to the catch 12.\n",
      " In a particular embodiment, a peg 19 projects axially from the back face of each flexible branch 15 of the connection element 10 from the middle portion of the C-shape of the hook 16, as can be seen in FIG. 2. The function of the pegs 19 is explained below.\n",
      " As explained below, the flexible branches 15 of the connection element 10 are arranged so that the connection element 10 moves of its own accord towards the inside of the female connector 2 in the transverse direction T as a result of a thrust force that is produced by reaction to elastic deformation of the flexible branches 15 acting axially and then radially, as occurs when pushing the male connector 6 into the female connector 2.\n",
      " In FIGS. 3A and 3B, the connection element 10 is in a high, pre-assembly position in the female connector 2. In the high, pre-assembly position of the connection element 10, the top of the connection element 10 projects from the top outside surface of the female connector 2 sufficiently, e.g. by about 3 millimeters (mm) to 4 mm, to enable an operator to distinguish reliably by visual or tactile inspection between the high, pre-assembly position of the connection element 10 and a low, locking position of the connection element 10 in the female connector 2.\n",
      " In this high, pre-assembly position, the flexible branches 15 are in a rest position, with the opening in each hook 16 of the connection element 10 being located above the corresponding locking catch 12 in the body 3 of the female connector 2, which catches constitute an abutment for the connection element 10. Thus, the connection element 10 cannot be inserted transversely by accident.\n",
      " The sequence of movements made by the connection element 10 of its own accord in the female connector 2 is described below with reference to FIGS. 4 to 8.\n",
      " In FIGS. 4A, 4B, and 4C, the male connector 6 is partially inserted into the female connector 2.\n",
      " The top periphery of the collar 7 of the male connector comes into contact with the branches of the lock 30 of the connection element 10 via the chamfers 31. By pushing the male connector 6 axially into the orifice of the female connector 2, the collar 7 exerts mechanical interference with pressure in the axial direction against the feelers 17 of the flexible branches 15 of the connection element 10. This axial thrust causes the flexible branches 15 to move axially but does not cause the branches 15 to move apart radially because the retaining fingers 18 on the front faces of the hooks 16 are still in abutment against the locking catches 12 of the body 3 of the female connector 2 and they prevent the connection element 10 from passing transversely into the clearance zones 11 inside the recess 8 of the female connector 2.\n",
      " The maximum axial movement of the branches 15 is obtained when the back faces of the flexible branches 15 are axially in abutment against the inside of the body 3 of the female connector 2. In a particular embodiment in which bearing pegs 19 are arranged on the back faces of the branches 15, the maximum axial movement is obtained when the pegs 19 come into abutment against the inside of the body 3 of the female connector 2, as can be seen in the enlargement of FIG. 4C. In this particular configuration, the branches 15 tend to twist under the effect of the mechanical interference of the male connector 6 against the connection element 10.\n",
      " As can be seen in FIGS. 5A and 5B, the male connector 6 is pushed in a little more into the female connector 2. The collar 7 continues to exert axial pressure against the feelers 17, but the branches 15 are in abutment against the body 3 of the female connector 2 so they now move apart radially and reach a maximum distance apart as can be seen in FIG. 5B. In this spaced-apart configuration of the flexible branches 15, it can be clearly be seen in FIG. 5B that the hooks 16 lie beyond the locking catches 12, and during downward transverse movement of the connection element 10 into the female connector 2, the hooks 16 go round the locking catches 12 in the clearance zone 11 of the female connector 2 (in a manner described below).\n",
      " By pushing the male connector 6 further into the female connector 2, the collar 7 loses contact with the feelers 17 of the connection element 10, with the branches 15 retracting by sliding diametrically over the rear face of the collar 7. The collar 7 becomes blocked behind the branches of the lock 30 and it is held between the retracted flexible branches 15.\n",
      " When the flexible branches 15 retract elastically, they move radially towards each other, while also retracting axially in the direction opposite to the direction for inserting the connection element 10, so as to return to their initial rest position. These two retraction movements generate a thrust force on the connection element 10 so that the connection element 10 moves transversely of its own accord in the recess 8 towards the inside of the female connector 2, as shown in FIGS. 6 and 7, until it reaches a low, retention and locking position in the female connector 2. In order to go round the catches 12 as mentioned above, it must be understood that the hooks 16 perform a first movement by axial projection and are then subjected to being spaced apart radially. When the male connector 6 is fully pushed into the female connector 2, the hooks 16 return to a rest position in an axial direction, such that the hooks 16 become engaged radially against the sides of the catches 12 and they become held by moving radially under the catches 12, with the retaining fingers 18 being received under the shoulders 112.\n",
      " The low position of the connection element 10 is shown in FIGS. 8A and 8B. In this low position, it can be seen that the catches 12 are received in the C-shape of the hooks 16. In this position, the connection element 10 can no longer move upwards transversely in the body 3 of the female connector 2. The male connector 6 is blocked axially in the female connector 2. As a result of this arrangement, the tube coupling 1 is completely safe.\n",
      " Furthermore, in this low, retaining position, the top of the connection element 10 (i.e. the bases of the U-shapes of the two forks) lie flush with the outside surface (the top surface in the drawing) of the female connector 2.\n",
      " It can be understood that the mechanism for moving the connection element 10 transversely is totally internal within the female connector 2, thereby enabling the overall size of the tube coupling 1 to be reduced.\n",
      " It is also possible to provide a visual indicator in the tube coupling 1 in order to verify that the male connector 6 has been pushed fully into the female connector 2, with this being provided in the form of a mark on the connection element 10 that becomes covered and thus masked when it is inserted in the female connector 2.\n",
      " The connection element 10 in the automatically-connecting safe tube coupling 1 can be adapted to male connectors 6 having different shapes or different diameters, and also to collars 7 having different radii.\n",
      " The tube coupling 1 has few separate parts and they can all be made out of plastics material, e.g. by injection molding or by 3D printing.\n",
      " In a variant embodiment, as shown in FIGS. 9A to 11A, provision may be made in the tube coupling 1 for a clip 20 that acts as an indicator showing two stages of assembling the coupling. In FIGS. 9A and 9B, the connection element 10 is in its high, pre-assembly position. When the male connector 6 is properly inserted in the female connector 2, the clip 20 projects from the coupling, i.e. it is in a high position, as can be seen in FIGS. 10A and 10B, thus making it possible for an operator to perform first visual and/or tactile verification that the coupling is properly assembled.\n",
      " Thereafter, a second verification is performed by a second operator who in turn observes that the clip 20 is in a projecting position and who pushes it manually into the coupling so that it is no longer in a projecting position, i.e. so that it is in a low position, as can be seen in FIGS. 11A and 11B.\n",
      " This two-stage verification makes it possible to observe that the coupling is properly assembled and thereby limits assembly errors on an assembly line.\n",
      " In this example, the clip 20 is in the form of a fork made up of two substantially flexible and parallel tines, as can be seen in FIGS. 9A to 11B.\n",
      " The tines of the clip 20 are designed to be inserted in respective grooves of the connection element 10 provided for this purpose in the transverse direction T shown in FIG. 9B and prior to inserting the male connector 6.\n",
      " Once the flexible tines of the clip 20 have been inserted, they exert a pressure force on the inside profile of the female connector 2 presenting unintentional withdrawal of the clip 20.\n",
      " It can also be understood that while inserting the male connector 6 into the female connector 2, the connection element 10 moves transversely towards the inside of the female connector 2 in order to lock the male connector 6, while the clip 20 remains in the high position, projecting from the coupling. Once the male connector 6 is correctly inserted, the ends of the tines of the clip 20 are positioned on the male connector 6 and prevent the clip 20 from moving down into its low position without additional thrust force being exerted.\n",
      " It should be observed that the mechanism for lowering the connection element 10 does not interact with the mechanism for lowering the clip 20, since the clip 20 is arranged to be pushed into its low position manually by an operator.\n",
      " \n",
      " \"'\n"
     ]
    }
   ],
   "source": [
    "string = ''\n",
    "new_descr = ''\n",
    "flag_however = 0\n",
    "with open('USRE049411_descr.txt', 'r') as f:\n",
    "    for text in f:\n",
    "        text = re.sub(re_tags, '', text)\n",
    "#         if line != '\\n' and line != ' ':\n",
    "        if 'however' in text or 'However' in text and flag_however == 0:\n",
    "                flag_however = 1\n",
    "                new_descr = text\n",
    "                continue\n",
    "        if flag_however < 3:\n",
    "            new_descr += ' ' + text\n",
    "            flag_however += 1\n",
    "        if flag_however == 3:\n",
    "            flag_however = 0\n",
    "#         print('lalala')\n",
    "    print(new_descr)\n",
    "    "
   ]
  },
  {
   "cell_type": "code",
   "execution_count": null,
   "id": "dc1652b5",
   "metadata": {},
   "outputs": [],
   "source": []
  }
 ],
 "metadata": {
  "kernelspec": {
   "display_name": "Python 3 (ipykernel)",
   "language": "python",
   "name": "python3"
  },
  "language_info": {
   "codemirror_mode": {
    "name": "ipython",
    "version": 3
   },
   "file_extension": ".py",
   "mimetype": "text/x-python",
   "name": "python",
   "nbconvert_exporter": "python",
   "pygments_lexer": "ipython3",
   "version": "3.9.7"
  }
 },
 "nbformat": 4,
 "nbformat_minor": 5
}
