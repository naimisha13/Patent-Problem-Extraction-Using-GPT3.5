{
 "cells": [
  {
   "cell_type": "code",
   "execution_count": 1,
   "id": "f5692195",
   "metadata": {},
   "outputs": [],
   "source": [
    "import re\n",
    "import pandas as pd"
   ]
  },
  {
   "cell_type": "code",
   "execution_count": 2,
   "id": "1dc25c5a",
   "metadata": {},
   "outputs": [],
   "source": [
    "re_tags = re.compile('<.*?>') # re to remove all the tags\n",
    "re_patent_number = re.compile('file=\"([^-]*)-') # re to extract patent number\n",
    "\n",
    "re_paranthesis = re.compile('\\(.*?\\)') # removing stuff in paranthesis"
   ]
  },
  {
   "cell_type": "code",
   "execution_count": 3,
   "id": "117c0964",
   "metadata": {},
   "outputs": [],
   "source": [
    "number_of_patents = 0\n",
    "number_of_design_patents = 0\n",
    "patent_data = {\"Patent_Number\":[], \"Description\":[]};\n",
    "description_flag = 0\n",
    "description_string = 'x'\n",
    "with open('ipg230207.xml', 'r') as f:\n",
    "    for line in f:\n",
    "        \n",
    "#         if number_of_patents <= 1:\n",
    "            #checking the number of patents\n",
    "        if line == '<?xml version=\"1.0\" encoding=\"UTF-8\"?>\\n':\n",
    "            number_of_patents += 1\n",
    "\n",
    "        #extract patent number\n",
    "        if '<us-patent-grant lang=\"EN\"' in line:\n",
    "            patent_num = re_patent_number.findall(line)\n",
    "            if 'USD0' in patent_num[0]:\n",
    "                number_of_design_patents += 1\n",
    "\n",
    "            patent_data[\"Patent_Number\"].append(patent_num[0])\n",
    "\n",
    "        if '<description id=\"description\">' in line:\n",
    "            description_string = ''\n",
    "            description_flag = 1\n",
    "\n",
    "        if line == '</description>\\n':\n",
    "            description_flag = 0\n",
    "            patent_data[\"Description\"].append(description_string)\n",
    "\n",
    "        else:\n",
    "            if description_flag == 1:\n",
    "                line = re.sub(re_tags, '', line)\n",
    "                description_string += line\n",
    "#             elif description_string == '' or description_string == 'x':\n",
    "#                 patent_data[\"Description\"].append('')\n",
    "                \n",
    "                "
   ]
  },
  {
   "cell_type": "code",
   "execution_count": 4,
   "id": "1a75860d",
   "metadata": {},
   "outputs": [
    {
     "name": "stdout",
     "output_type": "stream",
     "text": [
      "6007\n"
     ]
    }
   ],
   "source": [
    "print(number_of_patents)"
   ]
  },
  {
   "cell_type": "code",
   "execution_count": 5,
   "id": "6694bea5",
   "metadata": {},
   "outputs": [
    {
     "data": {
      "text/plain": [
       "5882"
      ]
     },
     "execution_count": 5,
     "metadata": {},
     "output_type": "execute_result"
    }
   ],
   "source": [
    "len(patent_data[\"Description\"])"
   ]
  },
  {
   "cell_type": "code",
   "execution_count": 6,
   "id": "e5b560d0",
   "metadata": {},
   "outputs": [],
   "source": [
    "for idx, descr in enumerate(patent_data[\"Description\"]):\n",
    "#     if 'USD0' in patent_data[\"Patent_Number\"][idx]:\n",
    "#         patent_data[\"Description\"][idx] = None\n",
    "#     else:\n",
    "    new_descr = ''\n",
    "    new_descr_however = ''\n",
    "    if 'however' in descr or 'However' in descr:\n",
    "        flag_however = 0\n",
    "        for line in descr.split('\\n'):\n",
    "            if len(line) > 20 and 'FIG' not in line and '&#x' not in line:# and 'THE' not in line and 'SUMMARY' not in line:\n",
    "                \n",
    "                if ('however' in line or 'However' in line) and flag_however == 0:\n",
    "                    flag_however = 1\n",
    "                    new_descr = line\n",
    "                    continue\n",
    "                if flag_however < 3:\n",
    "                    new_descr += ' ' + line\n",
    "                    flag_however += 1\n",
    "                if flag_however == 3:\n",
    "                    flag_however = 0\n",
    "    else:\n",
    "        for line in descr.split('\\n'):\n",
    "            if len(line) > 20 and 'FIG' not in line and '&#x' not in line: #and 'THE' not in line and 'SUMMARY' not in line:\n",
    "                new_descr += ' ' + line\n",
    "\n",
    "    if new_descr == '' or 'USD0' in patent_data[\"Patent_Number\"][idx] or 'USPP0'in patent_data[\"Patent_Number\"][idx]:\n",
    "        patent_data[\"Description\"][idx] = None\n",
    "    else:\n",
    "        new_descr = str(new_descr).strip()\n",
    "        new_descr = re.sub(re_paranthesis, '', new_descr)\n",
    "        patent_data[\"Description\"][idx] = new_descr\n",
    "#     print('lalala')\n",
    "\n",
    "\n",
    "# skip USD - design patents - done\n",
    "# evaluation of how well it describes - this week - done\n",
    "# however, 3 paragraphs - done\n",
    "# use examples while prompting - example - next week\n",
    "# get 100 patents summrized - this week - done\n",
    "# human problem - connection with the summary - last week? - this week"
   ]
  },
  {
   "cell_type": "code",
   "execution_count": 7,
   "id": "ed7b5e05",
   "metadata": {},
   "outputs": [],
   "source": [
    "patent_data_df = pd.DataFrame.from_dict(patent_data)"
   ]
  },
  {
   "cell_type": "code",
   "execution_count": 8,
   "id": "afe2fd30",
   "metadata": {},
   "outputs": [
    {
     "data": {
      "text/html": [
       "<div>\n",
       "<style scoped>\n",
       "    .dataframe tbody tr th:only-of-type {\n",
       "        vertical-align: middle;\n",
       "    }\n",
       "\n",
       "    .dataframe tbody tr th {\n",
       "        vertical-align: top;\n",
       "    }\n",
       "\n",
       "    .dataframe thead th {\n",
       "        text-align: right;\n",
       "    }\n",
       "</style>\n",
       "<table border=\"1\" class=\"dataframe\">\n",
       "  <thead>\n",
       "    <tr style=\"text-align: right;\">\n",
       "      <th></th>\n",
       "      <th>Patent_Number</th>\n",
       "      <th>Description</th>\n",
       "    </tr>\n",
       "  </thead>\n",
       "  <tbody>\n",
       "    <tr>\n",
       "      <th>count</th>\n",
       "      <td>5882</td>\n",
       "      <td>5312</td>\n",
       "    </tr>\n",
       "    <tr>\n",
       "      <th>unique</th>\n",
       "      <td>5882</td>\n",
       "      <td>5297</td>\n",
       "    </tr>\n",
       "    <tr>\n",
       "      <th>top</th>\n",
       "      <td>USD0977218</td>\n",
       "      <td>CROSS-REFERENCE TO RELATED APPLICATIONS/INCORP...</td>\n",
       "    </tr>\n",
       "    <tr>\n",
       "      <th>freq</th>\n",
       "      <td>1</td>\n",
       "      <td>3</td>\n",
       "    </tr>\n",
       "  </tbody>\n",
       "</table>\n",
       "</div>"
      ],
      "text/plain": [
       "       Patent_Number                                        Description\n",
       "count           5882                                               5312\n",
       "unique          5882                                               5297\n",
       "top       USD0977218  CROSS-REFERENCE TO RELATED APPLICATIONS/INCORP...\n",
       "freq               1                                                  3"
      ]
     },
     "execution_count": 8,
     "metadata": {},
     "output_type": "execute_result"
    }
   ],
   "source": [
    "patent_data_df.describe()"
   ]
  },
  {
   "cell_type": "code",
   "execution_count": 9,
   "id": "7f39db49",
   "metadata": {},
   "outputs": [
    {
     "data": {
      "text/html": [
       "<div>\n",
       "<style scoped>\n",
       "    .dataframe tbody tr th:only-of-type {\n",
       "        vertical-align: middle;\n",
       "    }\n",
       "\n",
       "    .dataframe tbody tr th {\n",
       "        vertical-align: top;\n",
       "    }\n",
       "\n",
       "    .dataframe thead th {\n",
       "        text-align: right;\n",
       "    }\n",
       "</style>\n",
       "<table border=\"1\" class=\"dataframe\">\n",
       "  <thead>\n",
       "    <tr style=\"text-align: right;\">\n",
       "      <th></th>\n",
       "      <th>Patent_Number</th>\n",
       "      <th>Description</th>\n",
       "    </tr>\n",
       "  </thead>\n",
       "  <tbody>\n",
       "    <tr>\n",
       "      <th>count</th>\n",
       "      <td>5312</td>\n",
       "      <td>5312</td>\n",
       "    </tr>\n",
       "    <tr>\n",
       "      <th>unique</th>\n",
       "      <td>5312</td>\n",
       "      <td>5297</td>\n",
       "    </tr>\n",
       "    <tr>\n",
       "      <th>top</th>\n",
       "      <td>USRE049409</td>\n",
       "      <td>CROSS-REFERENCE TO RELATED APPLICATIONS/INCORP...</td>\n",
       "    </tr>\n",
       "    <tr>\n",
       "      <th>freq</th>\n",
       "      <td>1</td>\n",
       "      <td>3</td>\n",
       "    </tr>\n",
       "  </tbody>\n",
       "</table>\n",
       "</div>"
      ],
      "text/plain": [
       "       Patent_Number                                        Description\n",
       "count           5312                                               5312\n",
       "unique          5312                                               5297\n",
       "top       USRE049409  CROSS-REFERENCE TO RELATED APPLICATIONS/INCORP...\n",
       "freq               1                                                  3"
      ]
     },
     "execution_count": 9,
     "metadata": {},
     "output_type": "execute_result"
    }
   ],
   "source": [
    "patent_data_df = patent_data_df.dropna()\n",
    "patent_data_df.describe()"
   ]
  },
  {
   "cell_type": "code",
   "execution_count": 15,
   "id": "200df5fe",
   "metadata": {},
   "outputs": [
    {
     "name": "stdout",
     "output_type": "stream",
     "text": [
      "the count is of patent descriptions with less than 20 words = 0\n",
      "the count is of patent descriptions with more than 1500 words = 4196\n",
      "total count of tokens from usable patents = 868463\n",
      "num of patents that can be used now: 1116\n"
     ]
    }
   ],
   "source": [
    "count_20 = 0\n",
    "count_1500 = 0\n",
    "patent_no_high_words = []\n",
    "patent_no_list = []\n",
    "num_of_words = 0\n",
    "patent_data['length'] = []\n",
    "for idx, line in enumerate(patent_data['Description']):\n",
    "    if line:\n",
    "        words = line.split(' ')\n",
    "        patent_data['length'].append(len(words)) \n",
    "        if len(words) < 20:\n",
    "#             print(len(words))\n",
    "#             print(patent_data['Patent_Number'][idx])\n",
    "            count_20 += 1\n",
    "        elif len(words) > 1500:\n",
    "            count_1500 += 1\n",
    "            patent_no_high_words.append(patent_data['Patent_Number'][idx])\n",
    "        else:\n",
    "            num_of_words += len(words)\n",
    "            patent_no_list.append(patent_data['Patent_Number'][idx])\n",
    "        \n",
    "print('the count is of patent descriptions with less than 20 words = '+ str(count_20))\n",
    "print('the count is of patent descriptions with more than 1500 words = '+ str(count_1500))\n",
    "print('total count of tokens from usable patents = '+ str(num_of_words))\n",
    "print('number of patents that can be used now: '+ str(len(patent_no_list)))"
   ]
  },
  {
   "cell_type": "code",
   "execution_count": 16,
   "id": "a63b8c3e",
   "metadata": {},
   "outputs": [
    {
     "name": "stdout",
     "output_type": "stream",
     "text": [
      "100\n"
     ]
    }
   ],
   "source": [
    "patents_list_100 = patent_no_list[:100]\n",
    "print(len(patents_list_100))\n",
    "patent_data_100 = patent_data_df[patent_data_df['Patent_Number'].isin(patents_list_100)]"
   ]
  },
  {
   "cell_type": "code",
   "execution_count": 14,
   "id": "4803eb41",
   "metadata": {},
   "outputs": [
    {
     "data": {
      "text/html": [
       "<div>\n",
       "<style scoped>\n",
       "    .dataframe tbody tr th:only-of-type {\n",
       "        vertical-align: middle;\n",
       "    }\n",
       "\n",
       "    .dataframe tbody tr th {\n",
       "        vertical-align: top;\n",
       "    }\n",
       "\n",
       "    .dataframe thead th {\n",
       "        text-align: right;\n",
       "    }\n",
       "</style>\n",
       "<table border=\"1\" class=\"dataframe\">\n",
       "  <thead>\n",
       "    <tr style=\"text-align: right;\">\n",
       "      <th></th>\n",
       "      <th>Patent_Number</th>\n",
       "      <th>Description</th>\n",
       "    </tr>\n",
       "  </thead>\n",
       "  <tbody>\n",
       "    <tr>\n",
       "      <th>570</th>\n",
       "      <td>USRE049409</td>\n",
       "      <td>In the present embodiment, the display unit 40...</td>\n",
       "    </tr>\n",
       "    <tr>\n",
       "      <th>572</th>\n",
       "      <td>USRE049411</td>\n",
       "      <td>The locking catch 12 may be rectangular in sha...</td>\n",
       "    </tr>\n",
       "    <tr>\n",
       "      <th>579</th>\n",
       "      <td>US11570946</td>\n",
       "      <td>The novel features that are considered charact...</td>\n",
       "    </tr>\n",
       "    <tr>\n",
       "      <th>581</th>\n",
       "      <td>US11570948</td>\n",
       "      <td>Walk-behind lawnmower 70 includes a frame 72, ...</td>\n",
       "    </tr>\n",
       "    <tr>\n",
       "      <th>586</th>\n",
       "      <td>US11570953</td>\n",
       "      <td>In the following description, reference is mad...</td>\n",
       "    </tr>\n",
       "  </tbody>\n",
       "</table>\n",
       "</div>"
      ],
      "text/plain": [
       "    Patent_Number                                        Description\n",
       "570    USRE049409  In the present embodiment, the display unit 40...\n",
       "572    USRE049411  The locking catch 12 may be rectangular in sha...\n",
       "579    US11570946  The novel features that are considered charact...\n",
       "581    US11570948  Walk-behind lawnmower 70 includes a frame 72, ...\n",
       "586    US11570953  In the following description, reference is mad..."
      ]
     },
     "execution_count": 14,
     "metadata": {},
     "output_type": "execute_result"
    }
   ],
   "source": [
    "patent_data_100.head()"
   ]
  },
  {
   "cell_type": "code",
   "execution_count": 17,
   "id": "1c464767",
   "metadata": {},
   "outputs": [],
   "source": [
    "import time\n",
    "ts = str(time.time())\n",
    "patent_data_100.to_csv(\"clean_data/patents_description_100\"+ ts +\".csv\")"
   ]
  },
  {
   "cell_type": "code",
   "execution_count": 17,
   "id": "0f547e68",
   "metadata": {
    "scrolled": true
   },
   "outputs": [
    {
     "name": "stdout",
     "output_type": "stream",
     "text": [
      "US11570953\n",
      "In the following description, reference is made to the accompanying drawings which form a part hereof, and which show by way of illustration possible implementations. It is to be understood that other implementations may be utilized, and structural, as well as procedural, changes may be made without departing from the scope of this document. As a matter of convenience, various components will be described using exemplary materials, sizes, shapes, dimensions, and the like. However, this document is not limited to the stated examples and other configurations are possible and within the teachings of the present disclosure. As will become apparent, changes may be made in the function and/or arrangement of any of the elements described in the disclosed exemplary implementations without departing from the spirit and scope of this disclosure. It will be understood that implementations of an enclosed garden bed system are not limited to the specific assemblies, devices and components disclosed in this document, as virtually any assemblies, devices and components consistent with the intended operation of an enclosed garden bed system may be used. Accordingly, for example, although particular enclosed garden bed systems, and other assemblies, devices and components are disclosed, such may include any shape, size, style, type, model, version, class, measurement, concentration, material, weight, quantity, and/or the like consistent with the intended operation of enclosed garden bed systems. Implementations are not limited to uses of any specific assemblies, devices and components; provided that the assemblies, devices and components selected are consistent with the intended operation of an enclosed garden bed system. Accordingly, the components defining any enclosed garden bed system implementations may be formed of any of many different types of materials or combinations thereof that can readily be formed into shaped objects provided that the components selected are consistent with the intended operation of an enclosed garden bed system implementation. For example, the components may be formed of: polymers such as thermoplastics , thermosets , any combination thereof, and/or other like materials; glasses , carbon-fiber, aramid-fiber, any combination thereof, and/or other like materials; composites and/or other like materials; metals, such as zinc, magnesium, titanium, copper, lead, iron, steel, carbon steel, alloy steel, tool steel, stainless steel, brass, nickel, tin, antimony, pure aluminum, 1100 aluminum, aluminum alloy, any combination thereof, and/or other like materials; alloys, such as aluminum alloy, titanium alloy, magnesium alloy, copper alloy, any combination thereof, and/or other like materials; any other suitable material; and/or any combination of the foregoing thereof. In instances where a part, component, feature, or element is governed by a standard, rule, code, or other requirement, the part may be made in accordance with, and to comply under such standard, rule, code, or other requirement. Various enclosed garden bed systems may be manufactured using conventional procedures as added to and improved upon through the procedures described here. Some components defining an enclosed garden bed system may be manufactured simultaneously and integrally joined with one another, while other components may be purchased pre-manufactured or manufactured separately and then assembled with the integral components. Various implementations may be manufactured using conventional procedures as added to and improved upon through the procedures described here. Accordingly, manufacture of these components separately or simultaneously may involve extrusion, pultrusion, vacuum forming, injection molding, blow molding, resin transfer molding, casting, forging, cold rolling, milling, drilling, reaming, turning, grinding, stamping, cutting, bending, welding, soldering, hardening, riveting, punching, plating, and/or the like. If any of the components are manufactured separately, they may then be coupled with one another in any manner, such as with adhesive, a weld, a fastener , wiring, any combination thereof, and/or the like for example, depending on, among other considerations, the particular material forming the components. It will be understood that enclosed garden bed systems are not limited to the specific order of steps as disclosed in this document. Any steps or sequence of steps of the assembly of an enclosed garden bed system indicated herein are given as examples of possible steps or sequence of steps and not as limitations, since various assembly processes and sequences of steps may be used to assemble enclosed garden bed systems. The implementations of an enclosed garden bed system described are by way of example or explanation and not by way of limitation. Rather, any description relating to the foregoing is for the exemplary purposes of this disclosure, and implementations may also be used with similar results for a variety of other applications employing an enclosed garden bed system.\n"
     ]
    }
   ],
   "source": [
    "print(patent_data_100['Patent_Number'][586])\n",
    "print(patent_data_100['Description'][586])\n",
    "\n",
    "# answer from gpt davinci\n",
    "# No, the given description does not provide enough information to determine what problem the patent is claiming to solve."
   ]
  },
  {
   "cell_type": "code",
   "execution_count": 18,
   "id": "93604e53",
   "metadata": {},
   "outputs": [
    {
     "name": "stdout",
     "output_type": "stream",
     "text": [
      "US11570946\n",
      "The novel features that are considered characteristic of the invention are set forth with particularity in the appended claims. The invention itself; however, both as to its structure and operation together with the additional objects and advantages thereof, are best understood through the following description of the preferred embodiment of the present invention when read in conjunction with the accompanying drawings, wherein: Step 3008 concerns the action taken by the control system in the cloud-based system 32. In step 3008, system 32 determines location and concentration of dispersed material across first and second farms. System 32 then creates a revised dispersal program for the first farm to correct under and over dispersal of chemical material in particular grid locations as needed. System 32 then creates remedial dispersal program for the second farm to correct dispersal of material meant for first farm as needed. Step 3010 concerns the development and uploading of REVISED DISPERSAL PROGRAMS to the drones supporting the first and second farms. A first REVISED DISPERSAL PROGRAM is created for the first drone supporting the first farm to correct and over or under dispersal of chemicals on the first farm only. A second REVISED DISPERSAL PROGRAM is created for the second drone supporting the second farm to correct and over or under dispersal of chemicals on the second farm only. While the invention has been shown and described with reference to a particular embodiment thereof, it will be understood to those skilled in the art, that various changes in form and details may be made therein without departing from the spirit and scope of the invention.\n"
     ]
    }
   ],
   "source": [
    "print(patent_data_100['Patent_Number'][579])\n",
    "print(patent_data_100['Description'][579])\n",
    "\n",
    "# The patent is claiming to solve the problem of under and over dispersal of chemical material across first and second farms, and creating a revised \n",
    "# dispersal program to correct the dispersal of material meant for the first farm as needed."
   ]
  },
  {
   "cell_type": "code",
   "execution_count": null,
   "id": "8e83f835",
   "metadata": {},
   "outputs": [],
   "source": []
  }
 ],
 "metadata": {
  "kernelspec": {
   "display_name": "Python 3 (ipykernel)",
   "language": "python",
   "name": "python3"
  },
  "language_info": {
   "codemirror_mode": {
    "name": "ipython",
    "version": 3
   },
   "file_extension": ".py",
   "mimetype": "text/x-python",
   "name": "python",
   "nbconvert_exporter": "python",
   "pygments_lexer": "ipython3",
   "version": "3.9.7"
  }
 },
 "nbformat": 4,
 "nbformat_minor": 5
}
